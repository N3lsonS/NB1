{
 "cells": [
  {
   "cell_type": "markdown",
   "id": "a33b1412-1182-4427-b144-5af65fb631aa",
   "metadata": {},
   "source": [
    "<h1> Parte 5: Estabilidade </h1>"
   ]
  },
  {
   "cell_type": "markdown",
   "id": "0acc1b60-8599-4542-b8f9-a717da1e0014",
   "metadata": {},
   "source": [
    "<h3>1. Cria duas amostras de uma circunferência e calcula a distancia Bottleneck dos dia-\n",
    "gramas de persistência e a distancia de Hausdorff entre as amostras.</h3>"
   ]
  },
  {
   "cell_type": "code",
   "execution_count": null,
   "id": "89ed36ac-9526-44ce-8d5a-42098906bf16",
   "metadata": {},
   "outputs": [],
   "source": [
    "import gudhi as gd\n",
    "import numpy as np\n",
    "import matplotlib.pyplot as plt\n",
    "from scipy.spatial.distance import directed_hausdorff"
   ]
  },
  {
   "cell_type": "code",
   "execution_count": null,
   "id": "7d2f3dbd-c046-49c6-b91f-0db77bb4589c",
   "metadata": {},
   "outputs": [],
   "source": [
    "def amostra_circulo(n_pontos,ruido):\n",
    "    theta = 2*np.pi*np.random.rand(n_pontos,1)\n",
    "    r = np.random.rand(n_pontos,1)/ruido\n",
    "    x = np.cos(theta) + r\n",
    "    y = np.sin(theta) + r\n",
    "    \n",
    "    return np.hstack((x,y))"
   ]
  },
  {
   "cell_type": "code",
   "execution_count": null,
   "id": "103de7cd-2cd4-43ed-a34f-1e34d0157959",
   "metadata": {},
   "outputs": [],
   "source": [
    "N_PONTOS = 100\n",
    "RAIO_M = 2\n",
    "DIM_M = 2"
   ]
  },
  {
   "cell_type": "code",
   "execution_count": null,
   "id": "83073119-10ad-49f7-9602-ef21d49291c0",
   "metadata": {},
   "outputs": [],
   "source": [
    "#Gera as amostras e plota os pontos\n",
    "pontos1 = amostra_circulo(N_PONTOS,100)\n",
    "pontos2 = amostra_circulo(N_PONTOS, 5)\n",
    "\n",
    "fig = plt.figure(figsize=(15,5))\n",
    "ax1 = fig.add_subplot(1,2,1) \n",
    "ax2 = fig.add_subplot(1,2,2)\n",
    "\n",
    "ax1.scatter(pontos1[:,0], pontos1[:,1],)\n",
    "ax2.scatter(pontos2[:,0], pontos2[:,1],)"
   ]
  },
  {
   "cell_type": "code",
   "execution_count": null,
   "id": "0e61b604-c7bc-4316-a2b3-a69bd3cd17f9",
   "metadata": {},
   "outputs": [],
   "source": [
    "#Gera as filtrações e diagramas de persistência\n",
    "complexo1 = gd.RipsComplex(points = pontos1, max_edge_length = RAIO_M)\n",
    "st1 = complexo1.create_simplex_tree(max_dimension = 2)\n",
    "\n",
    "complexo2 = gd.RipsComplex(points = pontos2, max_edge_length = RAIO_M)\n",
    "st2 = complexo2.create_simplex_tree(max_dimension = 2)\n",
    "\n",
    "pers1 = st1.persistence(homology_coeff_field=2)\n",
    "pers2 = st2.persistence(homology_coeff_field=2)\n",
    "\n",
    "fig = plt.figure(figsize=(15,5))\n",
    "ax1 = fig.add_subplot(1,2,1) \n",
    "ax2 = fig.add_subplot(1,2,2)\n",
    "\n",
    "#Plota os diagramas\n",
    "gd.plot_persistence_diagram(pers1, axes = ax1)\n",
    "gd.plot_persistence_diagram(pers2, axes = ax2)"
   ]
  },
  {
   "cell_type": "code",
   "execution_count": null,
   "id": "f1a005d6-58d9-4e9a-917b-c4e7ddfdb9d8",
   "metadata": {},
   "outputs": [],
   "source": [
    "#Gera os intervalos de persistencia de uma dimensão especifica\n",
    "pers1_0 = st1.persistence_intervals_in_dimension(0)\n",
    "pers2_0 = st2.persistence_intervals_in_dimension(0)\n",
    "\n",
    "bn0 = gd.bottleneck_distance(pers1_0,pers2_0)\n",
    "\n",
    "print('Distancia Bottleneck H_0='+repr(bn0))"
   ]
  },
  {
   "cell_type": "code",
   "execution_count": null,
   "id": "0c565d4e-7d85-4b7a-bd94-74729e79e754",
   "metadata": {},
   "outputs": [],
   "source": [
    "pers1_1 = st1.persistence_intervals_in_dimension(1)\n",
    "pers2_1 = st2.persistence_intervals_in_dimension(1)\n",
    "\n",
    "bn1 = gd.bottleneck_distance(pers1_1,pers2_1)\n",
    "\n",
    "print('Distancia Bottleneck H_1 ='+repr(bn1))"
   ]
  },
  {
   "cell_type": "code",
   "execution_count": null,
   "id": "c6de270d-dae2-470c-bde8-8da5e91aa241",
   "metadata": {},
   "outputs": [],
   "source": [
    "#Calcula a distancia de Hausdorff entre as amostras\n",
    "Hausdorff_distance = max(directed_hausdorff(pontos1, pontos2)[0], directed_hausdorff(pontos2, pontos1)[0])\n",
    "print('Hausdorff distance: '+repr(Hausdorff_distance))"
   ]
  },
  {
   "cell_type": "markdown",
   "id": "92ce5f7b-5957-4f3f-b31e-0d7326f32411",
   "metadata": {},
   "source": [
    "<h3> 2.Cria duas filtrações de um mesmo simplexo e calcula a distância Bottleneck entre\n",
    "seus diagramas de persistência ([Dlotko, P. Computational and applied topology, tutorial. arxiv: 1807.08607, 2018.], Seção 7.2). </h3>"
   ]
  },
  {
   "cell_type": "code",
   "execution_count": null,
   "id": "05934962-d452-419a-84f1-d02c2e88994c",
   "metadata": {},
   "outputs": [],
   "source": [
    "import numpy as np\n",
    "import gudhi as gd\n",
    "import matplotlib\n",
    "import random as rd\n",
    "\n",
    "r=1 #troque para zero para alterar a filtração \n",
    "\n",
    "st = gd.SimplexTree()\n",
    "st.insert([1,4,8], 0)\n",
    "st.insert([1,2,8], 1)\n",
    "st.insert([2,6,8], 2)\n",
    "st.insert([2,3,6], 3)\n",
    "st.insert([3,4,6], 4)\n",
    "st.insert([1,3,4], 5)\n",
    "st.insert([4,5,9], 6)\n",
    "st.insert([4,8,9], 7)\n",
    "st.insert([7,8,9], 8)\n",
    "st.insert([6,7,8], 9)\n",
    "st.insert([5,6,7], 10)\n",
    "st.insert([4,5,6], 11)\n",
    "st.insert([1,2,5], 12)\n",
    "st.insert([2,5,9], 13)\n",
    "st.insert([2,3,9], 14)\n",
    "st.insert([3,7,9], 15)\n",
    "st.insert([1,3,7], 16)\n",
    "st.insert([1,5,7], 17)\n",
    "\n",
    "diagrama = st.persistence(persistence_dim_max=True)\n",
    "plt = gd.plot_persistence_diagram(diagrama)"
   ]
  },
  {
   "cell_type": "code",
   "execution_count": null,
   "id": "feae1479-2462-4213-8d30-aa3ec65df684",
   "metadata": {},
   "outputs": [],
   "source": [
    "st1 = gd.SimplexTree()\n",
    "st1.insert([1,4,8],0*r+rd.random())\n",
    "st1.insert([1,2,8],1*r+rd.random())\n",
    "st1.insert([2,6,8],2*r+rd.random())\n",
    "st1.insert([2,3,6],3*r+rd.random())\n",
    "st1.insert([3,4,6],4*r+rd.random())\n",
    "st1.insert([1,3,4],5*r+rd.random())\n",
    "st1.insert([4,5,9],6*r+rd.random())\n",
    "st1.insert([4,8,9],7*r+rd.random())\n",
    "st1.insert([7,8,9],8*r+rd.random())\n",
    "st1.insert([6,7,8],9*r+rd.random())\n",
    "st1.insert([5,6,7],10*r+rd.random())\n",
    "st1.insert([4,5,6],11*r+rd.random())\n",
    "st1.insert([1,2,5],12*r+rd.random())\n",
    "st1.insert([2,5,9],13*r+rd.random())\n",
    "st1.insert([2,3,9],14*r+rd.random())\n",
    "st1.insert([3,7,9],15*r+rd.random())\n",
    "st1.insert([1,3,7],16*r+rd.random())\n",
    "st1.insert([1,5,7],17*r+rd.random())\n",
    "\n",
    "st1.make_filtration_non_decreasing()\n",
    "\n",
    "diagram1 = st1.persistence(persistence_dim_max=True)\n",
    "gd.plot_persistence_diagram(diagram1)"
   ]
  },
  {
   "cell_type": "code",
   "execution_count": null,
   "id": "2a24a3e2-7f9f-41eb-afb6-229a99162f03",
   "metadata": {},
   "outputs": [],
   "source": [
    "diagram = st.persistence_intervals_in_dimension(1)\n",
    "diagram1 = st1.persistence_intervals_in_dimension(1)\n",
    "\n",
    "bn1 = gd.bottleneck_distance(diagram,diagram1)\n",
    "\n",
    "print('Distancia Bottleneck H_1 ='+repr(bn1))"
   ]
  }
 ],
 "metadata": {
  "kernelspec": {
   "display_name": "Python 3 (ipykernel)",
   "language": "python",
   "name": "python3"
  },
  "language_info": {
   "codemirror_mode": {
    "name": "ipython",
    "version": 3
   },
   "file_extension": ".py",
   "mimetype": "text/x-python",
   "name": "python",
   "nbconvert_exporter": "python",
   "pygments_lexer": "ipython3",
   "version": "3.12.3"
  }
 },
 "nbformat": 4,
 "nbformat_minor": 5
}
