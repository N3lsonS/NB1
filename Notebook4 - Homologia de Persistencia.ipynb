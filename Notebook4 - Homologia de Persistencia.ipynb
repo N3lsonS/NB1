{
 "cells": [
  {
   "cell_type": "markdown",
   "id": "e005bfca-c4f3-43d5-b780-f6fd016a0c73",
   "metadata": {},
   "source": [
    "<h1> Parte 4: Homologia de Persistência </h1>"
   ]
  },
  {
   "cell_type": "markdown",
   "id": "9bf6be8d-a771-4e1f-82fb-5f1d165036fd",
   "metadata": {},
   "source": [
    "<h3>1. Cria um complexo de Vietoris-Rips de uma coleção de pontos dada e mostra a filtração.</h3>"
   ]
  },
  {
   "cell_type": "code",
   "execution_count": null,
   "id": "227758d0-c355-46af-b9dc-8d231f6511a4",
   "metadata": {},
   "outputs": [],
   "source": [
    "import gudhi as gd"
   ]
  },
  {
   "cell_type": "code",
   "execution_count": null,
   "id": "3a6fc05a-a905-476c-96c0-c87d0e1daab8",
   "metadata": {},
   "outputs": [],
   "source": [
    "pontos = [[1, 1], [5, 1], [3, 3],[4,7]]\n",
    "RAIO = 6\n",
    "DIM = 2\n",
    "\n",
    "vr = gd.RipsComplex(points=pontos, max_edge_length=RAIO)\n",
    "st = vr.create_simplex_tree(max_dimension=DIM)\n",
    "\n",
    "print('Dimensão do complexo: ' + repr(st.dimension()))\n",
    "print('Total de simplexos: ' + repr(st.num_simplices()))\n",
    "print('Numero de vértices: ' + repr(st.num_vertices()))\n",
    "\n",
    "a = list(st.get_filtration())\n",
    "\n",
    "for i in range(len(a)):\n",
    "    print(a[i])"
   ]
  },
  {
   "cell_type": "markdown",
   "id": "09c3e808-2ca3-4f4c-b0ef-27bb98f92b61",
   "metadata": {},
   "source": [
    "\n",
    "<h3>2. Exibe os barcodes e diagramas de persistência de uma amostra de uma circunferência sem ruídos.</h3>\n"
   ]
  },
  {
   "cell_type": "code",
   "execution_count": null,
   "id": "2cf968b5-24fa-4a44-9fac-3361396ad748",
   "metadata": {},
   "outputs": [],
   "source": [
    "import gudhi as gd\n",
    "import numpy as np\n",
    "import matplotlib.pyplot as plt"
   ]
  },
  {
   "cell_type": "code",
   "execution_count": null,
   "id": "06e837f8-f678-42e4-b928-742cc0db87bf",
   "metadata": {},
   "outputs": [],
   "source": [
    "def Circulo(n_pontos):\n",
    "    # Criar pontos aproximando um círculo\n",
    "    theta = np.linspace(0, 2*np.pi, n_pontos)\n",
    "    points = np.column_stack((np.cos(theta), np.sin(theta)))\n",
    "    \n",
    "    return points"
   ]
  },
  {
   "cell_type": "code",
   "execution_count": null,
   "id": "5aea6ab7-c207-440b-b783-de6cb56f6583",
   "metadata": {},
   "outputs": [],
   "source": [
    "N_PONTOS = 100\n",
    "RAIO = 1\n",
    "DIM = 2 \n",
    "\n",
    "pontos = Circulo(N_PONTOS)\n",
    "\n",
    "plt.scatter(pontos[:,0],pontos[:,1])"
   ]
  },
  {
   "cell_type": "code",
   "execution_count": null,
   "id": "92637b0b-9b99-4b1e-9a50-589e5c9a0f7f",
   "metadata": {},
   "outputs": [],
   "source": [
    "# Criar o complexo de Rips\n",
    "rips = gd.RipsComplex(points=pontos, max_edge_length=RAIO)\n",
    "simplex_tree = rips.create_simplex_tree(max_dimension=DIM)\n",
    "\n",
    "# Calcular a persistência\n",
    "pers = simplex_tree.persistence()"
   ]
  },
  {
   "cell_type": "code",
   "execution_count": null,
   "id": "0849545b-b86f-4c6d-93d3-303bfb6ae99f",
   "metadata": {},
   "outputs": [],
   "source": [
    "\n",
    "fig = plt.figure(figsize=(15,5))\n",
    "ax1 = fig.add_subplot(1,2,1) \n",
    "ax2 = fig.add_subplot(1,2,2)\n",
    "\n",
    "#plota o barcode de persistencia\n",
    "gd.plot_persistence_barcode(pers, axes = ax1)\n",
    "#plota o diagrama de persistencia\n",
    "gd.plot_persistence_diagram(pers, axes = ax2)"
   ]
  },
  {
   "cell_type": "markdown",
   "id": "eeb2651f-7587-44c4-9c51-ad19473c0270",
   "metadata": {},
   "source": [
    "<h3>3. Cria uma amostra (com ou sem ruído) de pontos sobre a circunferência e exibe os barcodes e diagramas\n",
    "de persistência.</h3>"
   ]
  },
  {
   "cell_type": "code",
   "execution_count": null,
   "id": "337f9265-041d-4114-b64b-2a0a20c8a6fc",
   "metadata": {},
   "outputs": [],
   "source": [
    "import gudhi as gd\n",
    "import numpy as np\n",
    "import matplotlib.pyplot as plt"
   ]
  },
  {
   "cell_type": "code",
   "execution_count": null,
   "id": "1fc23e06-ac69-4226-baf0-517cdcdd2124",
   "metadata": {},
   "outputs": [],
   "source": [
    "#funcao que gera uma amostra de pontos de uma circunferencia\n",
    "def Amostra_circulo(n_pontos, ruido):\n",
    "    a = 2*np.pi*np.random.rand(n_pontos, 1)  #angulos aleatórios em [0,2pi]\n",
    "    r = np.random.rand(n_pontos,1)/ruido        #numeros aleatórios\n",
    "\n",
    "    x = np.sin(a)+r\n",
    "    y = np.cos(a)+r\n",
    "    \n",
    "    return np.hstack((x, y))"
   ]
  },
  {
   "cell_type": "code",
   "execution_count": null,
   "id": "523a38e5-2329-4e0f-a6da-b05e9b9f3b2f",
   "metadata": {},
   "outputs": [],
   "source": [
    "np.random.seed(0) #comente para gerar diferentes amostra a cada iteracao\n",
    "\n",
    "RAIO_M = 1.5\n",
    "DIM_M= 2\n",
    "RUIDO_M = 5\n",
    "N_PONTOS = 100\n",
    "N_AMOSTRA = 50"
   ]
  },
  {
   "cell_type": "code",
   "execution_count": null,
   "id": "02299e2b-1e8c-4a6c-bdb4-64dd974f5c9b",
   "metadata": {},
   "outputs": [],
   "source": [
    "pontos = Amostra_circulo(N_PONTOS, RUIDO_M)\n",
    "\n",
    "#retira uma amostra de pontos\n",
    "amostra = gd.subsampling.pick_n_random_points(points=pontos, nb_points=N_AMOSTRA)\n",
    "amostra = np.array(amostra)\n",
    "\n",
    "#plota os pontos amostrados\n",
    "plt.scatter(amostra[:,0],amostra[:,1])"
   ]
  },
  {
   "cell_type": "code",
   "execution_count": null,
   "id": "c8fc1590-c1e8-42f7-aaf8-b43efc4c2df8",
   "metadata": {},
   "outputs": [],
   "source": [
    "#gera o complexo simplicial\n",
    "complexo = gd.RipsComplex(points = amostra, max_edge_length=1.5)\n",
    "st = complexo.create_simplex_tree(max_dimension=2)\n",
    "\n",
    "pers = st.persistence()"
   ]
  },
  {
   "cell_type": "code",
   "execution_count": null,
   "id": "8ce52457-ee45-4c70-8236-f35b0cdc742d",
   "metadata": {},
   "outputs": [],
   "source": [
    "#print(pers)\n",
    "print(st.persistence_intervals_in_dimension(1))"
   ]
  },
  {
   "cell_type": "code",
   "execution_count": null,
   "id": "4d96a809-3ff2-4e52-9c41-ac91479346f2",
   "metadata": {},
   "outputs": [],
   "source": [
    "fig = plt.figure(figsize=(15,5))\n",
    "ax1 = fig.add_subplot(1,2,1) \n",
    "ax2 = fig.add_subplot(1,2,2)\n",
    "\n",
    "#plota o barcode de persistencia\n",
    "gd.plot_persistence_barcode(pers, axes = ax1)\n",
    "#plota o diagrama de persistencia\n",
    "gd.plot_persistence_diagram(pers, axes = ax2)"
   ]
  },
  {
   "cell_type": "markdown",
   "id": "28acbabe-8a48-494d-8e7e-c82965113dc8",
   "metadata": {},
   "source": [
    "<h3>3. Cria uma amostra de pontos sobre uma esfera e calcula os barcodes\n",
    "e diagramas de persistência.</h3>\n"
   ]
  },
  {
   "cell_type": "code",
   "execution_count": null,
   "id": "b3efdb80-4cf6-4666-8850-1d35572912f5",
   "metadata": {},
   "outputs": [],
   "source": [
    "import numpy as np\n",
    "import matplotlib.pyplot as plt\n",
    "import gudhi as gd\n",
    "from mpl_toolkits.mplot3d import Axes3D"
   ]
  },
  {
   "cell_type": "code",
   "execution_count": null,
   "id": "2a583d49-b91f-4e3d-9166-8760b4ce3fd9",
   "metadata": {},
   "outputs": [],
   "source": [
    "def gerar_pontos_na_esfera(num_pontos):\n",
    "    \"\"\"\n",
    "    Gera pontos aleatórios em uma esfera unitária com pequeno ruído.\n",
    "    Retorna:\n",
    "        np.ndarray: Array de pontos (num_pontos, 3).\n",
    "    \"\"\"\n",
    "    a = 2 * np.pi * np.random.rand(num_pontos, 1)  # Ângulo a (0 a 2π)\n",
    "    b = np.pi * np.random.rand(num_pontos, 1)  # Ângulo (0 a π)\n",
    "    c = np.random.rand(num_pontos, 1) / 100  # ruído\n",
    "\n",
    "    # coordenadas \n",
    "    x = np.sin(a) * np.sin(b) + c\n",
    "    y = np.cos(a) * np.sin(b) + c\n",
    "    z = np.cos(b)\n",
    "\n",
    "    return np.hstack((x, y, z))"
   ]
  },
  {
   "cell_type": "code",
   "execution_count": null,
   "id": "fc5e3acb-bdfe-4b7e-8ce3-16b151db8758",
   "metadata": {},
   "outputs": [],
   "source": [
    "np.random.seed(0)\n",
    "NUM_PONTOS = 200\n",
    "NUM_AMOSTRADOS = 150\n",
    "RAIO_M = 2\n",
    "DIM_M = 3"
   ]
  },
  {
   "cell_type": "code",
   "execution_count": null,
   "id": "c3f43fa6-1727-485c-98b9-bf52a26a291d",
   "metadata": {},
   "outputs": [],
   "source": [
    "pontos = gerar_pontos_na_esfera(NUM_PONTOS)\n",
    "\n",
    "# Amostragem de pontos\n",
    "pontos_a = np.array(gd.subsampling.pick_n_random_points(points=pontos, nb_points=NUM_AMOSTRADOS))\n",
    "\n",
    "fig = plt.figure(figsize=(8, 8))\n",
    "ax = fig.add_subplot(111, projection='3d')\n",
    "ax.scatter(pontos_a[:, 0], pontos_a[:, 1], pontos_a[:, 2], color=\"blue\")\n",
    "\n",
    "# Configuração do gráfico\n",
    "ax.set_xlabel(\"X\")\n",
    "ax.set_ylabel(\"Y\")\n",
    "ax.set_zlabel(\"Z\")\n",
    "ax.set_title(\"Pontos amostrados de uma esfera\")\n",
    "plt.show()"
   ]
  },
  {
   "cell_type": "code",
   "execution_count": null,
   "id": "f40c317e-a636-465b-a28c-5493e6a2b575",
   "metadata": {},
   "outputs": [],
   "source": [
    "complexo = gd.RipsComplex(points=pontos_a, max_edge_length=RAIO_M)\n",
    "st = complexo.create_simplex_tree(max_dimension=DIM_M)\n",
    "pers = st.persistence()\n",
    "\n",
    "gd.plot_persistence_diagram(pers)"
   ]
  },
  {
   "cell_type": "markdown",
   "id": "f1253f8c-e18b-4a30-b6ce-7109621bed67",
   "metadata": {},
   "source": [
    "<h3>4. Cria uma amostra de pontos sobre um toro e calcula os barcodes\n",
    "e diagramas de persistência.</h3>"
   ]
  },
  {
   "cell_type": "code",
   "execution_count": null,
   "id": "03e97cdd-dbe6-4574-8db8-dd070780dbd6",
   "metadata": {},
   "outputs": [],
   "source": [
    "import numpy as np\n",
    "import matplotlib.pyplot as plt\n",
    "import gudhi as gd\n",
    "from mpl_toolkits.mplot3d import Axes3D"
   ]
  },
  {
   "cell_type": "code",
   "execution_count": null,
   "id": "0c9d29f6-8283-46ac-a633-08643afa30e4",
   "metadata": {},
   "outputs": [],
   "source": [
    "def gerar_pontos_no_toro(num_pontos, R, r):\n",
    "    \"\"\"\n",
    "    Gera pontos aleatórios em um toro com pequeno ruído.\n",
    "        num_pontos (int): Número de pontos a serem gerados.\n",
    "        R (float): Raio maior.\n",
    "        r (float): Raio menor.\n",
    "        ruido (float): Amplitude do ruído a ser adicionado aos pontos.\n",
    "    \"\"\"\n",
    "    u = 2 * np.pi * np.random.rand(num_pontos, 1)  # Ângulo ao redor do círculo maior\n",
    "    v = 2 * np.pi * np.random.rand(num_pontos, 1)  # Ângulo ao redor da seção transversal\n",
    "    \n",
    "    # Equações paramétricas do toro\n",
    "    x = (R + r * np.cos(v)) * np.cos(u)\n",
    "    y = (R + r * np.cos(v)) * np.sin(u)\n",
    "    z = r * np.sin(v)\n",
    "\n",
    "    pontos = np.hstack((x, y, z))\n",
    "    return pontos"
   ]
  },
  {
   "cell_type": "code",
   "execution_count": null,
   "id": "eb6bd4ce-9c39-4201-b8a4-333a3c8bc742",
   "metadata": {},
   "outputs": [],
   "source": [
    "N_PONTOS = 400\n",
    "RMAIOR = 1\n",
    "RMENOR = 0.5\n",
    "pontos = gerar_pontos_no_toro(N_PONTOS,RMAIOR,RMENOR)\n",
    "\n",
    "# Amostragem de pontos\n",
    "pontos_a = np.array(gd.subsampling.pick_n_random_points(points=pontos, nb_points=400))\n",
    "\n",
    "fig = plt.figure(figsize=(8, 8))\n",
    "ax = fig.add_subplot(111, projection='3d')\n",
    "ax.scatter(pontos_a[:, 0], pontos_a[:, 1], pontos_a[:, 2], color=\"blue\")\n",
    "\n",
    "# Configuração do gráfico\n",
    "ax.set_xlabel(\"X\")\n",
    "ax.set_ylabel(\"Y\")\n",
    "ax.set_zlabel(\"Z\")\n",
    "ax.set_title(\"Pontos amostrados de um toro\")\n",
    "plt.show()"
   ]
  },
  {
   "cell_type": "code",
   "execution_count": null,
   "id": "c706b9bf-e469-4cb0-96bc-274a452b7910",
   "metadata": {},
   "outputs": [],
   "source": [
    "RAIO_M = 1\n",
    "DIM_M = 3\n",
    "\n",
    "complexo = gd.RipsComplex(points=pontos_a, max_edge_length=RAIO_M)\n",
    "st = complexo.create_simplex_tree(max_dimension=DIM_M)\n",
    "pers = st.persistence()\n",
    "\n",
    "gd.plot_persistence_diagram(pers)"
   ]
  },
  {
   "cell_type": "code",
   "execution_count": null,
   "id": "656b3e05-f62b-4cc7-a602-2fe19741ee97",
   "metadata": {},
   "outputs": [],
   "source": []
  },
  {
   "cell_type": "code",
   "execution_count": null,
   "id": "a8b1fdc9-3830-46c8-8bb6-b6cb77d59b50",
   "metadata": {},
   "outputs": [],
   "source": []
  }
 ],
 "metadata": {
  "kernelspec": {
   "display_name": "Python 3 (ipykernel)",
   "language": "python",
   "name": "python3"
  },
  "language_info": {
   "codemirror_mode": {
    "name": "ipython",
    "version": 3
   },
   "file_extension": ".py",
   "mimetype": "text/x-python",
   "name": "python",
   "nbconvert_exporter": "python",
   "pygments_lexer": "ipython3",
   "version": "3.12.3"
  }
 },
 "nbformat": 4,
 "nbformat_minor": 5
}
