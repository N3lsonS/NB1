{
 "cells": [
  {
   "cell_type": "markdown",
   "id": "44633df6-153f-4400-9d7b-2b1d909190b6",
   "metadata": {},
   "source": [
    "<h1> Parte 3: Complexos de Vietoris-Rips </h1>"
   ]
  },
  {
   "cell_type": "markdown",
   "id": "c2375a71-afae-4d2b-968e-e6319f36c548",
   "metadata": {},
   "source": [
    "<h3>1. Cria um um complexo de Vietoris-Rips de um conjunto de pontos dados com um\n",
    "certo raio r. Exibe os números de Betti.</h3>"
   ]
  },
  {
   "cell_type": "code",
   "execution_count": null,
   "id": "4aaf3299-cdb9-47b0-b165-0fe24ec0ce51",
   "metadata": {},
   "outputs": [],
   "source": [
    "import gudhi as gd"
   ]
  },
  {
   "cell_type": "code",
   "execution_count": null,
   "id": "9d517be9-f5db-4799-a1c2-e4e9d7135e90",
   "metadata": {},
   "outputs": [],
   "source": [
    "pontos = [[1, 1], [5, 1], [3, 3],[4,7]]\n",
    "RAIO_M = 3\n",
    "DIM_M = 2"
   ]
  },
  {
   "cell_type": "code",
   "execution_count": null,
   "id": "def55645-55b8-4bc5-b795-b24d3558f79f",
   "metadata": {},
   "outputs": [],
   "source": [
    "vr = gd.RipsComplex(points=pontos, max_edge_length=RAIO_M)"
   ]
  },
  {
   "cell_type": "code",
   "execution_count": null,
   "id": "d4fe0f42-914b-4319-8c7e-43ed33c8c1f5",
   "metadata": {},
   "outputs": [],
   "source": [
    "st = vr.create_simplex_tree(max_dimension=DIM_M)"
   ]
  },
  {
   "cell_type": "code",
   "execution_count": null,
   "id": "4da18467-6a23-4464-8bc2-78f46235a173",
   "metadata": {},
   "outputs": [],
   "source": [
    "print('Dimensão do complexo: ' + repr(st.dimension()))\n",
    "print('Total de simplexos: ' + repr(st.num_simplices()))\n",
    "print('Numero de vértices: ' + repr(st.num_vertices()))"
   ]
  },
  {
   "cell_type": "code",
   "execution_count": null,
   "id": "fee547cf-e4ad-4ae3-8c19-a52d5e8ff7dc",
   "metadata": {},
   "outputs": [],
   "source": [
    "a = list(st.get_filtration())\n",
    "\n",
    "for i in range(len(a)):\n",
    "    print(a[i][0])"
   ]
  },
  {
   "cell_type": "code",
   "execution_count": null,
   "id": "e3935cb4-1cfd-4894-9fc5-a6f0791f300f",
   "metadata": {},
   "outputs": [],
   "source": [
    "st.persistence(homology_coeff_field=2, persistence_dim_max=True)\n",
    "b = st.betti_numbers()\n",
    "for i in range(len(b)):\n",
    "    print('Betti_'+repr(i),'= ',b[i])"
   ]
  },
  {
   "cell_type": "code",
   "execution_count": null,
   "id": "212880de-8b45-4f1d-a58b-ef501ec3ec6c",
   "metadata": {},
   "outputs": [],
   "source": [
    "import matplotlib.pyplot as plt\n",
    "import numpy as np"
   ]
  },
  {
   "cell_type": "code",
   "execution_count": null,
   "id": "2860dad8-15d3-426b-a196-2a2ffa82f5ac",
   "metadata": {},
   "outputs": [],
   "source": [
    "#Função para visualizar o complexo de Rips gerado.\n",
    "def visualize_complex(simplex_tree, points):\n",
    "    # Converte os pontos para array NumPy, se necessário.\n",
    "    points = np.array(points)\n",
    "    \n",
    "    # Plota os vértices (pontos) do complexo.\n",
    "    plt.scatter(points[:, 0], points[:, 1], color='blue', s=50, label='Vértices')\n",
    "    \n",
    "    # Itera sobre os símplices do complexo.\n",
    "    for simplex, filtration in simplex_tree.get_simplices():\n",
    "        if len(simplex) == 2:\n",
    "            # Símplex de dimensão 1: aresta entre dois vértices.\n",
    "            i, j = simplex\n",
    "            plt.plot([points[i, 0], points[j, 0]], [points[i, 1], points[j, 1]],\n",
    "                     color='black', linewidth=2)\n",
    "        elif len(simplex) == 3:\n",
    "            # Símplex de dimensão 2: triângulo.\n",
    "            # Extrai as coordenadas dos vértices do triângulo.\n",
    "            triangle = [points[i] for i in simplex]\n",
    "            xs = [p[0] for p in triangle]\n",
    "            ys = [p[1] for p in triangle]\n",
    "            # Fecha o polígono (triângulo) voltando ao primeiro vértice.\n",
    "            xs.append(triangle[0][0])\n",
    "            ys.append(triangle[0][1])\n",
    "            plt.fill(xs, ys, color='red', alpha=0.3)\n",
    "    \n",
    "    plt.title(\"Complexo de Rips\")\n",
    "    plt.legend()\n",
    "    plt.axis('equal') \n",
    "    plt.show()"
   ]
  },
  {
   "cell_type": "code",
   "execution_count": null,
   "id": "53ae623f-55c2-448d-a818-5e28362d3e26",
   "metadata": {},
   "outputs": [],
   "source": [
    "visualize_complex(st, pontos)"
   ]
  },
  {
   "cell_type": "markdown",
   "id": "10726ed6-7360-4f49-9fb5-9a54cf655242",
   "metadata": {},
   "source": [
    "<h3>2. Cria uma amostra de N pontos e constrói o complexo de\n",
    "Vietoris-Rips para um dado r. Visualiza as bolas ao redor dos pontos e o complexo\n",
    "gerado.</h3>"
   ]
  },
  {
   "cell_type": "code",
   "execution_count": null,
   "id": "34ca372a-7dc7-49bd-86e6-fa22e500302b",
   "metadata": {},
   "outputs": [],
   "source": [
    "#Plota os pontos e desenha discos transparentes ao redor de cada um.\n",
    "def plotar_discos(points, radius, alpha=0.3):\n",
    "    #Args:\n",
    "        #points (ndarray): Conjunto de pontos (N, 2).\n",
    "        #radius (float): Raio dos discos.\n",
    "        #alpha (float): Transparência dos discos (padrão 0.3).\n",
    "    \n",
    "    fig, ax = plt.subplots(figsize=(6,6))\n",
    "    \n",
    "    # Plota os pontos\n",
    "    raio = str(radius)\n",
    "    ax.scatter(points[:, 0], points[:, 1], color='blue', label=\"Raio=\"+raio)\n",
    "\n",
    "    # Adiciona discos transparentes ao redor de cada ponto\n",
    "    for x, y in points:\n",
    "        circle = plt.Circle((x, y), radius/2, color='blue', alpha=alpha)\n",
    "        ax.add_patch(circle)\n",
    "    \n",
    "    # Configuração do gráfico\n",
    "    ax.set_xlim(points[:, 0].min() - radius, points[:, 0].max() + radius)\n",
    "    ax.set_ylim(points[:, 1].min() - radius, points[:, 1].max() + radius)\n",
    "    ax.set_aspect('equal')\n",
    "    ax.set_title(\"Discos do Complexo de Rips\")\n",
    "    plt.legend()\n",
    "    plt.show()"
   ]
  },
  {
   "cell_type": "code",
   "execution_count": null,
   "id": "ce5358d4-46e8-4ed9-be2a-84830c93f619",
   "metadata": {},
   "outputs": [],
   "source": [
    "N_PONTOS = 10\n",
    "RAIO_M = 2"
   ]
  },
  {
   "cell_type": "code",
   "execution_count": null,
   "id": "f00fd5ad-a6f7-4c07-ac79-6dfb42e22b0d",
   "metadata": {},
   "outputs": [],
   "source": [
    "np.random.seed(0) #comente se quiser outra amostra de pontos\n",
    "\n",
    "#pontos aleatórios\n",
    "pares = 5*np.random.rand(N_PONTOS, 2)\n",
    "pares = np.array(pares)"
   ]
  },
  {
   "cell_type": "code",
   "execution_count": null,
   "id": "c795e8b0-3adc-4989-9136-2bac02e048ff",
   "metadata": {},
   "outputs": [],
   "source": [
    "complexo = gd.RipsComplex(points=pares, max_edge_length=RAIO_M)\n",
    "st = complexo.create_simplex_tree(max_dimension=2)\n",
    "persistence = st.persistence()\n",
    "\n",
    "plt.scatter(pares[:,0],pares[:,1])"
   ]
  },
  {
   "cell_type": "code",
   "execution_count": null,
   "id": "7f2e4702-768c-419d-b850-e5a48b655090",
   "metadata": {},
   "outputs": [],
   "source": [
    "plotar_discos(pares, RAIO_M)"
   ]
  },
  {
   "cell_type": "code",
   "execution_count": null,
   "id": "fa5d9a49-528e-4b34-a733-f18cc5561ee7",
   "metadata": {},
   "outputs": [],
   "source": [
    "visualize_complex(st, pares)"
   ]
  },
  {
   "cell_type": "markdown",
   "id": "0af6bf45-202c-4280-a22d-66894e909617",
   "metadata": {},
   "source": [
    "<h3>3. Cria uma amostra de N pontos ao redor de uma circuferência.</h3>"
   ]
  },
  {
   "cell_type": "code",
   "execution_count": null,
   "id": "c84f7823-998e-4b61-99a4-5fa8c9835197",
   "metadata": {},
   "outputs": [],
   "source": [
    "# Parâmetros\n",
    "R = 5  # Raio da circunferência\n",
    "num_pontos = 200  # Número de pontos\n",
    "desvio = 0.5  # Intensidade do ruído\n",
    "\n",
    "# Gera ângulos aleatórios\n",
    "theta = np.linspace(0, 2 * np.pi, num_pontos)\n",
    "\n",
    "# Gera pontos ao longo do círculo\n",
    "x_circulo = R * np.cos(theta)\n",
    "y_circulo = R * np.sin(theta)\n",
    "\n",
    "# Adiciona ruído para dispersar os pontos\n",
    "x_nuvem = x_circulo + np.random.normal(0, desvio, num_pontos)\n",
    "y_nuvem = y_circulo + np.random.normal(0, desvio, num_pontos)"
   ]
  },
  {
   "cell_type": "code",
   "execution_count": null,
   "id": "a91b4adc-fd43-40ef-a64b-2f7bf6db794e",
   "metadata": {},
   "outputs": [],
   "source": [
    "plt.scatter(x_nuvem, y_nuvem, color='blue', alpha=0.6)"
   ]
  },
  {
   "cell_type": "code",
   "execution_count": null,
   "id": "f57bb266-d8b0-4b9e-b3d2-e0782058cf0c",
   "metadata": {},
   "outputs": [],
   "source": [
    "pares = np.column_stack((x_nuvem, y_nuvem))\n",
    "amostra = gd.subsampling.pick_n_random_points(points=pares, nb_points=50)\n",
    "amostra = np.array(amostra)\n",
    "\n",
    "#plota os pontos amostrados\n",
    "plt.scatter(amostra[:,0],amostra[:,1])"
   ]
  },
  {
   "cell_type": "code",
   "execution_count": null,
   "id": "b93bf0f3-241e-4c25-8b9c-6db279d0ca3d",
   "metadata": {},
   "outputs": [],
   "source": [
    "RAIO_M = 2\n",
    "complexo = gd.RipsComplex(points=amostra, max_edge_length=RAIO_M)\n",
    "st = complexo.create_simplex_tree(max_dimension=2)\n",
    "persistence = st.persistence()"
   ]
  },
  {
   "cell_type": "code",
   "execution_count": null,
   "id": "db1ed1a8-6ead-437c-af87-39ffcbe3db90",
   "metadata": {},
   "outputs": [],
   "source": [
    "plotar_discos(amostra, RAIO_M)"
   ]
  },
  {
   "cell_type": "code",
   "execution_count": null,
   "id": "b6a5f2a2-8e65-45c9-b830-fbb4538b2711",
   "metadata": {},
   "outputs": [],
   "source": [
    "visualize_complex(st, amostra)"
   ]
  },
  {
   "cell_type": "code",
   "execution_count": null,
   "id": "72774e1e-88e4-4558-8069-4393d06885e0",
   "metadata": {},
   "outputs": [],
   "source": [
    "b = st.betti_numbers()\n",
    "for i in range(len(b)):\n",
    "    print('Betti_'+repr(i),'= ',b[i])"
   ]
  },
  {
   "cell_type": "code",
   "execution_count": null,
   "id": "3c16ad86-4d53-41ce-a858-78dbe732d237",
   "metadata": {},
   "outputs": [],
   "source": []
  }
 ],
 "metadata": {
  "kernelspec": {
   "display_name": "Python 3 (ipykernel)",
   "language": "python",
   "name": "python3"
  },
  "language_info": {
   "codemirror_mode": {
    "name": "ipython",
    "version": 3
   },
   "file_extension": ".py",
   "mimetype": "text/x-python",
   "name": "python",
   "nbconvert_exporter": "python",
   "pygments_lexer": "ipython3",
   "version": "3.12.3"
  }
 },
 "nbformat": 4,
 "nbformat_minor": 5
}
