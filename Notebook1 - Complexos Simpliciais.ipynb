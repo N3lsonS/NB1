{
 "cells": [
  {
   "cell_type": "markdown",
   "id": "9fe5c539-d486-4f07-9a0c-050d0eae11c6",
   "metadata": {},
   "source": [
    "\n",
    "<h1> Parte 1: Complexos Simpliciais e Característica de Euler </h1>"
   ]
  },
  {
   "cell_type": "markdown",
   "id": "19a52a01-aba4-4100-8cd4-690b26706cd6",
   "metadata": {},
   "source": [
    "<h3>1. Cria um triângulo e lista todas as suas faces.</h3>"
   ]
  },
  {
   "cell_type": "code",
   "execution_count": null,
   "id": "b335a4d3-d076-434e-8e36-ee9bf5d4293b",
   "metadata": {},
   "outputs": [],
   "source": [
    "import gudhi as gd"
   ]
  },
  {
   "cell_type": "code",
   "execution_count": null,
   "id": "c0126afe-ffee-4688-bed0-a55c1ccfc068",
   "metadata": {},
   "outputs": [],
   "source": [
    "st = gd.SimplexTree()\n",
    "st.insert([0 ])\n",
    "st.insert([1])\n",
    "st.insert([0])\n",
    "st.insert([0 ,1])\n",
    "st.insert([1 ,2])\n",
    "st.insert([0 ,2])"
   ]
  },
  {
   "cell_type": "code",
   "execution_count": null,
   "id": "3f7dcaec-fc11-4db5-85df-d153e8d5f470",
   "metadata": {},
   "outputs": [],
   "source": [
    "# cria uma lista a partir do iterador\n",
    "lista_simplexos = list(st.get_simplices())\n",
    "for simp in lista_simplexos:\n",
    "    print(simp[0])"
   ]
  },
  {
   "cell_type": "code",
   "execution_count": null,
   "id": "4482db2c-1d5d-4132-b7bb-fc1c8ef886e3",
   "metadata": {},
   "outputs": [],
   "source": [
    "st = gd.SimplexTree()\n",
    "st.insert([0,1,2])"
   ]
  },
  {
   "cell_type": "code",
   "execution_count": null,
   "id": "a730b7cf-e5eb-4609-a1fe-0e9ddcd40684",
   "metadata": {},
   "outputs": [],
   "source": [
    "#Ao adicionar um simplexo, todas as suas faces são adicionadas.\n",
    "st_gen = st.get_simplices()\n",
    "for splx in st_gen:\n",
    "    print(splx[0])"
   ]
  },
  {
   "cell_type": "code",
   "execution_count": null,
   "id": "3cd04c7d-57fc-4ee2-b6a7-c47e352c9d4b",
   "metadata": {},
   "outputs": [],
   "source": [
    "st.dimension()"
   ]
  },
  {
   "cell_type": "code",
   "execution_count": null,
   "id": "bfe7a95d-708d-44ef-be0b-5b69073bb474",
   "metadata": {},
   "outputs": [],
   "source": [
    "st.num_vertices() \n"
   ]
  },
  {
   "cell_type": "code",
   "execution_count": null,
   "id": "282744e1-cd43-48a0-8686-1b4c5414ab3a",
   "metadata": {},
   "outputs": [],
   "source": [
    "st.num_vertices() "
   ]
  },
  {
   "cell_type": "markdown",
   "id": "198509db-fbf7-48ac-b8f5-43db7e6cf524",
   "metadata": {},
   "source": [
    "<h3>2. Calcula a característica de Euler de um complexo simplicial</h3>"
   ]
  },
  {
   "cell_type": "code",
   "execution_count": null,
   "id": "31184ecc-7b0a-4239-a8a9-98e652b006dd",
   "metadata": {},
   "outputs": [],
   "source": [
    "#função que calcula a característica de Euler\n",
    "def CarEuler(compsimp):\n",
    "    #inicia uma lista vazia\n",
    "    n_simp=[] \n",
    "    #adiciona 0 em todas as entradas\n",
    "    for i in range(compsimp.dimension()+1):\n",
    "        n_simp.append(0) \n",
    "    #conta o nro de simplexos de cada dimensão\n",
    "    for simp in compsimp.get_simplices():\n",
    "        n_simp[len(simp[0])-1]+=1 \n",
    "    #realiza soma alternada da fórmula\n",
    "    X = sum(n_simp[::2]) - sum(n_simp[1::2])\n",
    "    return X"
   ]
  },
  {
   "cell_type": "markdown",
   "id": "aa844952-846d-4eb1-8c53-7629dd1df221",
   "metadata": {},
   "source": [
    "<h3> Esfera </h3>"
   ]
  },
  {
   "cell_type": "code",
   "execution_count": null,
   "id": "85a12280-83f0-4452-993b-0bcc4c24ab0e",
   "metadata": {},
   "outputs": [],
   "source": [
    "st1 = gd.SimplexTree()\n",
    "\n",
    "#triangulação de uma esfera\n",
    "st1.insert([0,1,2])\n",
    "st1.insert([0,1,3])\n",
    "st1.insert([0,2,3])\n",
    "st1.insert([1,2,3])\n",
    "\n",
    "print(CarEuler(st1))"
   ]
  },
  {
   "cell_type": "markdown",
   "id": "8237d4b1-80dd-4596-bb5a-cfded995928b",
   "metadata": {},
   "source": [
    "<h3> Toro </h3>"
   ]
  },
  {
   "cell_type": "code",
   "execution_count": null,
   "id": "08a082bd-ac91-4ac9-ac3f-e35a59e3d954",
   "metadata": {},
   "outputs": [],
   "source": [
    "st2 = gd.SimplexTree()\n",
    "\n",
    "#triangulação de um toro\n",
    "st2.insert([0,1,3])\n",
    "st2.insert([1,3,4])\n",
    "st2.insert([1,2,4])\n",
    "st2.insert([2,4,5])\n",
    "st2.insert([0,2,5])\n",
    "st2.insert([0,3,5])\n",
    "st2.insert([3,4,6])\n",
    "st2.insert([4,6,7])\n",
    "st2.insert([4,5,7])\n",
    "st2.insert([5,7,8])\n",
    "st2.insert([3,5,8])\n",
    "st2.insert([3,6,8])\n",
    "st2.insert([0,6,7])\n",
    "st2.insert([0,1,7])\n",
    "st2.insert([1,7,8])\n",
    "st2.insert([1,2,8])\n",
    "st2.insert([2,6,8])\n",
    "st2.insert([0,2,6])\n",
    "\n",
    "print(CarEuler(st2))"
   ]
  },
  {
   "cell_type": "markdown",
   "id": "1880a237-2d27-415f-9606-1f1721007dc9",
   "metadata": {},
   "source": [
    "<h3> Garrafa de Klein </h3>"
   ]
  },
  {
   "cell_type": "code",
   "execution_count": null,
   "id": "b033502c-6066-49bf-85a5-43b11f2aa3ff",
   "metadata": {},
   "outputs": [],
   "source": [
    "st3 = gd.SimplexTree()\n",
    "\n",
    "#triangulação de uma garrafa de klein\n",
    "st3.insert([0,1,3])\n",
    "st3.insert([1,3,4])\n",
    "st3.insert([1,2,4])\n",
    "st3.insert([2,4,5])\n",
    "st3.insert([0,2,5])\n",
    "st3.insert([0,3,5])\n",
    "st3.insert([3,4,6])\n",
    "st3.insert([4,6,7])\n",
    "st3.insert([4,5,7])\n",
    "st3.insert([5,7,8])\n",
    "st3.insert([3,5,8])\n",
    "st3.insert([3,6,8])\n",
    "st3.insert([0,6,7])\n",
    "st3.insert([0,2,7])\n",
    "st3.insert([2,7,8])\n",
    "st3.insert([2,1,8])\n",
    "st3.insert([1,6,8])\n",
    "st3.insert([0,1,6])\n",
    "\n",
    "print(CarEuler(st3))"
   ]
  },
  {
   "cell_type": "markdown",
   "id": "c15ce3ec-0098-4968-bcc5-1c78e16a2fab",
   "metadata": {},
   "source": [
    "<h3> Extra </h3>"
   ]
  },
  {
   "cell_type": "code",
   "execution_count": null,
   "id": "56d907b3-e133-4f37-9e20-e5c59bc98cf6",
   "metadata": {},
   "outputs": [],
   "source": [
    "import gudhi \n",
    "import numpy as np\n",
    "import networkx as nx\n",
    "import matplotlib.pyplot as plt\n",
    "from mpl_toolkits.mplot3d.art3d import Poly3DCollection\n",
    "\n",
    "def DrawSimplicialComplex3D(simpcomplex, pos=None):\n",
    "    '''\n",
    "    Desenha o 1-esqueleto e as faces (triângulos) do complexo simplicial em 3D.\n",
    "    \n",
    "    Entrada:\n",
    "        simpcomplex: um gudhi.SimplexTree que contém os simplices.\n",
    "        pos: um dicionário {vértice: [x, y, z]} com as posições dos vértices.\n",
    "             Se pos==None, as posições serão geradas aleatoriamente usando o layout de mola (spring_layout) do networkx, no espaço 3D.\n",
    "    \n",
    "    Exemplo:\n",
    "        simpcomplex = gudhi.SimplexTree()\n",
    "        simpcomplex.insert([0])\n",
    "        simpcomplex.insert([1])\n",
    "        simpcomplex.insert([2])\n",
    "        simpcomplex.insert([0,1])\n",
    "        simpcomplex.insert([1,2])\n",
    "        simpcomplex.insert([2,0])\n",
    "        # Inserindo também o 2-simplex para preencher o triângulo:\n",
    "        simpcomplex.insert([0,1,2])\n",
    "        DrawSimplicialComplex3D(simpcomplex)\n",
    "    '''\n",
    "    # Extrai vértices, arestas e faces (triângulos)\n",
    "    nodes = set()\n",
    "    edges = []\n",
    "    faces = []\n",
    "    \n",
    "    # Obtém simplices de dimensão até 2 (0, 1 e 2-simplices)\n",
    "    for simplex, _ in simpcomplex.get_skeleton(2):\n",
    "        if len(simplex) == 1:\n",
    "            nodes.add(simplex[0])\n",
    "        elif len(simplex) == 2:\n",
    "            edges.append(simplex)\n",
    "        elif len(simplex) == 3:\n",
    "            faces.append(simplex)\n",
    "    \n",
    "    # Se nenhuma posição foi informada, usamos o spring_layout do networkx em 3D\n",
    "    if pos is None:\n",
    "        G = nx.Graph()\n",
    "        G.add_nodes_from(nodes)\n",
    "        G.add_edges_from(edges)\n",
    "        pos = nx.spring_layout(G, dim=3)  # gera posições em R^3\n",
    "    \n",
    "    # Cria a figura 3D\n",
    "    fig = plt.figure(figsize=(8, 6))\n",
    "    ax = fig.add_subplot(111, projection='3d')\n",
    "    \n",
    "    # Desenha os vértices\n",
    "    xs, ys, zs = [], [], []\n",
    "    for node in nodes:\n",
    "        x, y, z = pos[node]\n",
    "        xs.append(x)\n",
    "        ys.append(y)\n",
    "        zs.append(z)\n",
    "        # Anota os vértices\n",
    "        ax.text(x, y, z, s=str(node), fontsize=12, color='darkred')\n",
    "    ax.scatter(xs, ys, zs, color='magenta', s=50, depthshade=True)\n",
    "    \n",
    "    # Desenha as arestas\n",
    "    for edge in edges:\n",
    "        p1, p2 = pos[edge[0]], pos[edge[1]]\n",
    "        xs_line = [p1[0], p2[0]]\n",
    "        ys_line = [p1[1], p2[1]]\n",
    "        zs_line = [p1[2], p2[2]]\n",
    "        ax.plot(xs_line, ys_line, zs_line, color='black')\n",
    "    \n",
    "    # Desenha as faces (triângulos) se houver\n",
    "    if faces:\n",
    "        face_vertices = []\n",
    "        for face in faces:\n",
    "            # Ordena os vértices (a ordem não altera o plano definido pelos 3 pontos)\n",
    "            pts = [pos[v] for v in face]\n",
    "            face_vertices.append(pts)\n",
    "        poly3d = Poly3DCollection(face_vertices, facecolors='cyan', alpha=0.3, edgecolor='k')\n",
    "        ax.add_collection3d(poly3d)\n",
    "    \n",
    "    # Ajusta os limites dos eixos para melhor visualização\n",
    "    all_coords = np.array(list(pos.values()))\n",
    "    max_range = (all_coords.max(axis=0) - all_coords.min(axis=0)).max() / 2.0\n",
    "    mid = all_coords.mean(axis=0)\n",
    "    ax.set_xlim(mid[0]-max_range, mid[0]+max_range)\n",
    "    ax.set_ylim(mid[1]-max_range, mid[1]+max_range)\n",
    "    ax.set_zlim(mid[2]-max_range, mid[2]+max_range)\n",
    "    \n",
    "    ax.set_xlabel(\"X\")\n",
    "    ax.set_ylabel(\"Y\")\n",
    "    ax.set_zlabel(\"Z\")\n",
    "    plt.show()\n",
    "\n",
    "# Exemplo de uso:\n",
    "simpcomplex = gudhi.SimplexTree()\n",
    "simpcomplex.insert([0,1,2])\n",
    "simpcomplex.insert([0,1,3])\n",
    "simpcomplex.insert([2,3,4])\n",
    "\n",
    "  # Insere o triângulo preenchido\n",
    "\n",
    "DrawSimplicialComplex3D(simpcomplex)"
   ]
  },
  {
   "cell_type": "code",
   "execution_count": null,
   "id": "8007876f-526b-42a0-81f2-c796c7cb36c7",
   "metadata": {},
   "outputs": [],
   "source": []
  }
 ],
 "metadata": {
  "kernelspec": {
   "display_name": "Python 3 (ipykernel)",
   "language": "python",
   "name": "python3"
  },
  "language_info": {
   "codemirror_mode": {
    "name": "ipython",
    "version": 3
   },
   "file_extension": ".py",
   "mimetype": "text/x-python",
   "name": "python",
   "nbconvert_exporter": "python",
   "pygments_lexer": "ipython3",
   "version": "3.12.3"
  }
 },
 "nbformat": 4,
 "nbformat_minor": 5
}
