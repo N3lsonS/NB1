{
 "cells": [
  {
   "cell_type": "markdown",
   "id": "b3b587e6-40c8-4285-8ea5-4931693016c4",
   "metadata": {},
   "source": [
    "<h1> Parte 2: Homologia Simplicial </h1>"
   ]
  },
  {
   "cell_type": "markdown",
   "id": "1a13d53c-9ae8-4455-9a35-f6e07d31bce6",
   "metadata": {},
   "source": [
    "<h3> 1. Calcula os números de Betti de um complexo simplicial dado. </h3>"
   ]
  },
  {
   "cell_type": "code",
   "execution_count": null,
   "id": "937cd4fc-fe56-4a7b-849c-1f6d225daf17",
   "metadata": {},
   "outputs": [],
   "source": [
    "import gudhi as gd"
   ]
  },
  {
   "cell_type": "markdown",
   "id": "a76ca5c0-2cf6-4d1e-83c5-68cdc5c56609",
   "metadata": {},
   "source": [
    "<h3> Círculo </h3>"
   ]
  },
  {
   "cell_type": "code",
   "execution_count": null,
   "id": "a9d3f287-bc35-4166-a32e-16ab48579a2f",
   "metadata": {},
   "outputs": [],
   "source": [
    "st = gd.SimplexTree() \n",
    "\n",
    "st.insert([0,1]) \n",
    "st.insert([1,2])\n",
    "st.insert([0,2])"
   ]
  },
  {
   "cell_type": "code",
   "execution_count": null,
   "id": "c114abd5-853c-4e8d-bb00-b6d998cd606e",
   "metadata": {},
   "outputs": [],
   "source": [
    "#chamar antes de betti.numbers()\n",
    "st.persistence(homology_coeff_field=2,persistence_dim_max=True)\n",
    "\n",
    "a = st.betti_numbers()\n",
    "for i in range(len(a)):\n",
    "    print('Betti_'+repr(i),'= ',a[i])"
   ]
  },
  {
   "cell_type": "markdown",
   "id": "1042d0cc-d95a-4874-b115-3b44cb9a7464",
   "metadata": {},
   "source": [
    "<h3> Dois Círculos </h3>"
   ]
  },
  {
   "cell_type": "code",
   "execution_count": null,
   "id": "2fe7aead-db56-4329-9e41-ea5452be9f5b",
   "metadata": {},
   "outputs": [],
   "source": [
    "st = gd.SimplexTree() \n",
    "\n",
    "st.insert([0,1]) \n",
    "st.insert([1,2])\n",
    "st.insert([0,2])\n",
    "\n",
    "st.insert([3,4]) \n",
    "st.insert([4,5])\n",
    "st.insert([3,5])\n",
    "\n",
    "#chamar antes de betti.numbers()\n",
    "st.persistence(homology_coeff_field=2,persistence_dim_max=True)\n",
    "\n",
    "a = st.betti_numbers()\n",
    "for i in range(len(a)):\n",
    "    print('Betti_'+repr(i),'= ',a[i])"
   ]
  },
  {
   "cell_type": "markdown",
   "id": "c8625fb8-f072-415e-888e-5cfd8e03f689",
   "metadata": {},
   "source": [
    "<h3> Figura 8 </h3>"
   ]
  },
  {
   "cell_type": "code",
   "execution_count": null,
   "id": "603441b2-6c9b-4cef-a1a2-b926352e5eb9",
   "metadata": {},
   "outputs": [],
   "source": [
    "st = gd.SimplexTree() \n",
    "\n",
    "st.insert([0,1]) \n",
    "st.insert([1,2])\n",
    "st.insert([0,2])\n",
    "st.insert([2,3]) \n",
    "st.insert([3,4])\n",
    "st.insert([2,4])\n",
    "\n",
    "#chamar antes de betti.numbers()\n",
    "st.persistence(homology_coeff_field=2,persistence_dim_max=True)\n",
    "\n",
    "a = st.betti_numbers()\n",
    "for i in range(len(a)):\n",
    "    print('Betti_'+repr(i),'= ',a[i])"
   ]
  },
  {
   "cell_type": "markdown",
   "id": "53f8b01b-fba8-4438-bf8f-050f25e85d57",
   "metadata": {},
   "source": [
    "<h3> Esfera </h3>"
   ]
  },
  {
   "cell_type": "code",
   "execution_count": null,
   "id": "ea949f67-4fec-49dd-b98b-9bdee199cf07",
   "metadata": {},
   "outputs": [],
   "source": [
    "st1 = gd.SimplexTree()\n",
    "\n",
    "#triangulação de uma esfera\n",
    "st1.insert([0,1,2])\n",
    "st1.insert([0,1,3])\n",
    "st1.insert([0,2,3])\n",
    "st1.insert([1,2,3])\n",
    "\n",
    "#chamar antes de betti.numbers()\n",
    "st1.persistence(homology_coeff_field=2,persistence_dim_max=True)\n",
    "\n",
    "a = st1.betti_numbers()\n",
    "for i in range(len(a)):\n",
    "    print('Betti_'+repr(i),'= ',a[i])"
   ]
  },
  {
   "cell_type": "markdown",
   "id": "bc09175b-5b50-4600-86fc-e6852e76545d",
   "metadata": {},
   "source": [
    "<h3> Toro </h3>"
   ]
  },
  {
   "cell_type": "code",
   "execution_count": null,
   "id": "fcc074b0-8a3d-491d-9f8c-7dceb18bedcb",
   "metadata": {},
   "outputs": [],
   "source": [
    "st2 = gd.SimplexTree()\n",
    "\n",
    "#triangulação de um toro\n",
    "st2.insert([0,1,3])\n",
    "st2.insert([1,3,4])\n",
    "st2.insert([1,2,4])\n",
    "st2.insert([2,4,5])\n",
    "st2.insert([0,2,5])\n",
    "st2.insert([0,3,5])\n",
    "st2.insert([3,4,6])\n",
    "st2.insert([4,6,7])\n",
    "st2.insert([4,5,7])\n",
    "st2.insert([5,7,8])\n",
    "st2.insert([3,5,8])\n",
    "st2.insert([3,6,8])\n",
    "st2.insert([0,6,7])\n",
    "st2.insert([0,1,7])\n",
    "st2.insert([1,7,8])\n",
    "st2.insert([1,2,8])\n",
    "st2.insert([2,6,8])\n",
    "st2.insert([0,2,6])\n",
    "\n",
    "#chamar antes de betti.numbers()\n",
    "st2.persistence(homology_coeff_field=2,persistence_dim_max=True)\n",
    "\n",
    "a = st2.betti_numbers()\n",
    "for i in range(len(a)):\n",
    "    print('Betti_'+repr(i),'= ',a[i])"
   ]
  },
  {
   "cell_type": "markdown",
   "id": "7321019e-4f16-4045-903e-82a651d0be82",
   "metadata": {},
   "source": [
    "<h3> Garrafa de Klein </h3>"
   ]
  },
  {
   "cell_type": "code",
   "execution_count": null,
   "id": "c2a9cc8b-5bb9-4622-8908-5ef3d96c5b14",
   "metadata": {},
   "outputs": [],
   "source": [
    "st3 = gd.SimplexTree()\n",
    "\n",
    "#triangulação de uma garrafa de klein\n",
    "st3.insert([0,1,3])\n",
    "st3.insert([1,3,4])\n",
    "st3.insert([1,2,4])\n",
    "st3.insert([2,4,5])\n",
    "st3.insert([0,2,5])\n",
    "st3.insert([0,3,5])\n",
    "st3.insert([3,4,6])\n",
    "st3.insert([4,6,7])\n",
    "st3.insert([4,5,7])\n",
    "st3.insert([5,7,8])\n",
    "st3.insert([3,5,8])\n",
    "st3.insert([3,6,8])\n",
    "st3.insert([0,6,7])\n",
    "st3.insert([0,2,7])\n",
    "st3.insert([2,7,8])\n",
    "st3.insert([2,1,8])\n",
    "st3.insert([1,6,8])\n",
    "st3.insert([0,1,6])\n",
    "\n",
    "#chamar antes de betti.numbers()\n",
    "st3.persistence(homology_coeff_field=2,persistence_dim_max=True)\n",
    "\n",
    "a = st3.betti_numbers()\n",
    "for i in range(len(a)):\n",
    "    print('Betti_'+repr(i),'= ',a[i])"
   ]
  },
  {
   "cell_type": "code",
   "execution_count": null,
   "id": "897ea08c-be86-4fd6-b1d5-610a86cbe8b7",
   "metadata": {},
   "outputs": [],
   "source": []
  }
 ],
 "metadata": {
  "kernelspec": {
   "display_name": "Python 3 (ipykernel)",
   "language": "python",
   "name": "python3"
  },
  "language_info": {
   "codemirror_mode": {
    "name": "ipython",
    "version": 3
   },
   "file_extension": ".py",
   "mimetype": "text/x-python",
   "name": "python",
   "nbconvert_exporter": "python",
   "pygments_lexer": "ipython3",
   "version": "3.12.3"
  }
 },
 "nbformat": 4,
 "nbformat_minor": 5
}
